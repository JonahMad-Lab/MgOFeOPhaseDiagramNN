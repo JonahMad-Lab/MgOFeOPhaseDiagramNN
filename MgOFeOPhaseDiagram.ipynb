{
 "cells": [
  {
   "cell_type": "code",
   "execution_count": 3,
   "metadata": {},
   "outputs": [
    {
     "name": "stdout",
     "output_type": "stream",
     "text": [
      "TensorFlow version: 2.18.0\n"
     ]
    }
   ],
   "source": [
    "import sys as _sys\n",
    "import tensorflow as tf\n",
    "import matplotlib.pyplot as plt\n",
    "import numpy as np\n",
    "import pandas as pd\n",
    "print(\"TensorFlow version:\", tf.__version__)"
   ]
  },
  {
   "cell_type": "code",
   "execution_count": 57,
   "metadata": {},
   "outputs": [],
   "source": [
    "from tensorflow.keras.models import Sequential\n",
    "from tensorflow.keras.layers import Dense, Flatten, Input\n",
    "from tensorflow.keras.optimizers import Adam\n",
    "from tensorflow.keras.losses import SparseCategoricalCrossentropy\n",
    "from tensorflow.keras.metrics import SparseCategoricalAccuracy\n",
    "from sklearn.model_selection import train_test_split\n",
    "from sklearn.preprocessing import MinMaxScaler"
   ]
  },
  {
   "cell_type": "code",
   "execution_count": 77,
   "metadata": {},
   "outputs": [],
   "source": [
    "# Load the synthetic data\n",
    "base_path = r'C:\\Users\\Jonahmad\\Downloads'\n",
    "file_name= f'MF_phase_diagram_with_labels_GPa.csv'\n",
    "file_path= f'{base_path}\\\\{file_name}'\n",
    "data = pd.read_csv(file_path)\n",
    "\n",
    "# Extract features (Composition, Temperature, and Pressure) and labels\n",
    "X = data[['Composition_Percent_MgO', 'Temperature_K', 'Pressure_GPa']].values\n",
    "y = data['Label'].values"
   ]
  },
  {
   "cell_type": "code",
   "execution_count": 78,
   "metadata": {},
   "outputs": [],
   "source": [
    "# Normalize features using MinMaxScaler\n",
    "scaler = MinMaxScaler()\n",
    "X_scaled = scaler.fit_transform(X)\n",
    "\n",
    "# Split the data into training and testing sets\n",
    "X_train, X_test, y_train, y_test = train_test_split(X_scaled, y, test_size=0.2, random_state=42)"
   ]
  },
  {
   "cell_type": "code",
   "execution_count": 79,
   "metadata": {},
   "outputs": [
    {
     "name": "stderr",
     "output_type": "stream",
     "text": [
      "C:\\Users\\Jonahmad\\AppData\\Roaming\\Python\\Python312\\site-packages\\keras\\src\\layers\\core\\dense.py:87: UserWarning: Do not pass an `input_shape`/`input_dim` argument to a layer. When using Sequential models, prefer using an `Input(shape)` object as the first layer in the model instead.\n",
      "  super().__init__(activity_regularizer=activity_regularizer, **kwargs)\n"
     ]
    }
   ],
   "source": [
    "# Construct fully connected neural network\n",
    "model = tf.keras.Sequential([\n",
    "    tf.keras.layers.Dense(128, activation='relu', input_shape=(3,)),  # Three inputs: Composition, Temperature and Pressure\n",
    "    tf.keras.layers.Dense(64, activation='relu'),\n",
    "    tf.keras.layers.Dense(32, activation='relu'),\n",
    "    tf.keras.layers.Dense(1, activation='sigmoid')  # Output for binary classification\n",
    "])"
   ]
  },
  {
   "cell_type": "code",
   "execution_count": 80,
   "metadata": {},
   "outputs": [],
   "source": [
    "# Compile the model\n",
    "model.compile(optimizer='adam',\n",
    "              loss='binary_crossentropy',\n",
    "              metrics=['accuracy'])\n"
   ]
  },
  {
   "cell_type": "code",
   "execution_count": 81,
   "metadata": {},
   "outputs": [
    {
     "name": "stdout",
     "output_type": "stream",
     "text": [
      "Epoch 1/100\n",
      "\u001b[1m73/73\u001b[0m \u001b[32m━━━━━━━━━━━━━━━━━━━━\u001b[0m\u001b[37m\u001b[0m \u001b[1m1s\u001b[0m 2ms/step - accuracy: 0.7670 - loss: 0.6104 - val_accuracy: 0.8241 - val_loss: 0.4797\n",
      "Epoch 2/100\n",
      "\u001b[1m73/73\u001b[0m \u001b[32m━━━━━━━━━━━━━━━━━━━━\u001b[0m\u001b[37m\u001b[0m \u001b[1m0s\u001b[0m 710us/step - accuracy: 0.8022 - loss: 0.5023 - val_accuracy: 0.8241 - val_loss: 0.4777\n",
      "Epoch 3/100\n",
      "\u001b[1m73/73\u001b[0m \u001b[32m━━━━━━━━━━━━━━━━━━━━\u001b[0m\u001b[37m\u001b[0m \u001b[1m0s\u001b[0m 763us/step - accuracy: 0.7960 - loss: 0.5064 - val_accuracy: 0.8241 - val_loss: 0.4710\n",
      "Epoch 4/100\n",
      "\u001b[1m73/73\u001b[0m \u001b[32m━━━━━━━━━━━━━━━━━━━━\u001b[0m\u001b[37m\u001b[0m \u001b[1m0s\u001b[0m 681us/step - accuracy: 0.7885 - loss: 0.5086 - val_accuracy: 0.8241 - val_loss: 0.4540\n",
      "Epoch 5/100\n",
      "\u001b[1m73/73\u001b[0m \u001b[32m━━━━━━━━━━━━━━━━━━━━\u001b[0m\u001b[37m\u001b[0m \u001b[1m0s\u001b[0m 922us/step - accuracy: 0.7883 - loss: 0.4980 - val_accuracy: 0.8241 - val_loss: 0.4386\n",
      "Epoch 6/100\n",
      "\u001b[1m73/73\u001b[0m \u001b[32m━━━━━━━━━━━━━━━━━━━━\u001b[0m\u001b[37m\u001b[0m \u001b[1m0s\u001b[0m 682us/step - accuracy: 0.7927 - loss: 0.4737 - val_accuracy: 0.8276 - val_loss: 0.4215\n",
      "Epoch 7/100\n",
      "\u001b[1m73/73\u001b[0m \u001b[32m━━━━━━━━━━━━━━━━━━━━\u001b[0m\u001b[37m\u001b[0m \u001b[1m0s\u001b[0m 693us/step - accuracy: 0.8018 - loss: 0.4368 - val_accuracy: 0.8276 - val_loss: 0.3805\n",
      "Epoch 8/100\n",
      "\u001b[1m73/73\u001b[0m \u001b[32m━━━━━━━━━━━━━━━━━━━━\u001b[0m\u001b[37m\u001b[0m \u001b[1m0s\u001b[0m 551us/step - accuracy: 0.7986 - loss: 0.4221 - val_accuracy: 0.8259 - val_loss: 0.3601\n",
      "Epoch 9/100\n",
      "\u001b[1m73/73\u001b[0m \u001b[32m━━━━━━━━━━━━━━━━━━━━\u001b[0m\u001b[37m\u001b[0m \u001b[1m0s\u001b[0m 533us/step - accuracy: 0.8146 - loss: 0.3738 - val_accuracy: 0.8069 - val_loss: 0.3445\n",
      "Epoch 10/100\n",
      "\u001b[1m73/73\u001b[0m \u001b[32m━━━━━━━━━━━━━━━━━━━━\u001b[0m\u001b[37m\u001b[0m \u001b[1m0s\u001b[0m 693us/step - accuracy: 0.8193 - loss: 0.3726 - val_accuracy: 0.8241 - val_loss: 0.3351\n",
      "Epoch 11/100\n",
      "\u001b[1m73/73\u001b[0m \u001b[32m━━━━━━━━━━━━━━━━━━━━\u001b[0m\u001b[37m\u001b[0m \u001b[1m0s\u001b[0m 570us/step - accuracy: 0.8080 - loss: 0.3610 - val_accuracy: 0.8207 - val_loss: 0.3310\n",
      "Epoch 12/100\n",
      "\u001b[1m73/73\u001b[0m \u001b[32m━━━━━━━━━━━━━━━━━━━━\u001b[0m\u001b[37m\u001b[0m \u001b[1m0s\u001b[0m 694us/step - accuracy: 0.8138 - loss: 0.3540 - val_accuracy: 0.8293 - val_loss: 0.3228\n",
      "Epoch 13/100\n",
      "\u001b[1m73/73\u001b[0m \u001b[32m━━━━━━━━━━━━━━━━━━━━\u001b[0m\u001b[37m\u001b[0m \u001b[1m0s\u001b[0m 711us/step - accuracy: 0.8048 - loss: 0.3520 - val_accuracy: 0.8207 - val_loss: 0.3207\n",
      "Epoch 14/100\n",
      "\u001b[1m73/73\u001b[0m \u001b[32m━━━━━━━━━━━━━━━━━━━━\u001b[0m\u001b[37m\u001b[0m \u001b[1m0s\u001b[0m 661us/step - accuracy: 0.8049 - loss: 0.3529 - val_accuracy: 0.8362 - val_loss: 0.3225\n",
      "Epoch 15/100\n",
      "\u001b[1m73/73\u001b[0m \u001b[32m━━━━━━━━━━━━━━━━━━━━\u001b[0m\u001b[37m\u001b[0m \u001b[1m0s\u001b[0m 679us/step - accuracy: 0.7949 - loss: 0.3657 - val_accuracy: 0.8241 - val_loss: 0.3243\n",
      "Epoch 16/100\n",
      "\u001b[1m73/73\u001b[0m \u001b[32m━━━━━━━━━━━━━━━━━━━━\u001b[0m\u001b[37m\u001b[0m \u001b[1m0s\u001b[0m 602us/step - accuracy: 0.8093 - loss: 0.3414 - val_accuracy: 0.8259 - val_loss: 0.2989\n",
      "Epoch 17/100\n",
      "\u001b[1m73/73\u001b[0m \u001b[32m━━━━━━━━━━━━━━━━━━━━\u001b[0m\u001b[37m\u001b[0m \u001b[1m0s\u001b[0m 697us/step - accuracy: 0.7973 - loss: 0.3294 - val_accuracy: 0.8362 - val_loss: 0.2928\n",
      "Epoch 18/100\n",
      "\u001b[1m73/73\u001b[0m \u001b[32m━━━━━━━━━━━━━━━━━━━━\u001b[0m\u001b[37m\u001b[0m \u001b[1m0s\u001b[0m 739us/step - accuracy: 0.8051 - loss: 0.3431 - val_accuracy: 0.8259 - val_loss: 0.3018\n",
      "Epoch 19/100\n",
      "\u001b[1m73/73\u001b[0m \u001b[32m━━━━━━━━━━━━━━━━━━━━\u001b[0m\u001b[37m\u001b[0m \u001b[1m0s\u001b[0m 741us/step - accuracy: 0.7998 - loss: 0.3323 - val_accuracy: 0.8172 - val_loss: 0.2921\n",
      "Epoch 20/100\n",
      "\u001b[1m73/73\u001b[0m \u001b[32m━━━━━━━━━━━━━━━━━━━━\u001b[0m\u001b[37m\u001b[0m \u001b[1m0s\u001b[0m 711us/step - accuracy: 0.8153 - loss: 0.3148 - val_accuracy: 0.8224 - val_loss: 0.2914\n",
      "Epoch 21/100\n",
      "\u001b[1m73/73\u001b[0m \u001b[32m━━━━━━━━━━━━━━━━━━━━\u001b[0m\u001b[37m\u001b[0m \u001b[1m0s\u001b[0m 713us/step - accuracy: 0.7921 - loss: 0.3367 - val_accuracy: 0.8052 - val_loss: 0.2837\n",
      "Epoch 22/100\n",
      "\u001b[1m73/73\u001b[0m \u001b[32m━━━━━━━━━━━━━━━━━━━━\u001b[0m\u001b[37m\u001b[0m \u001b[1m0s\u001b[0m 704us/step - accuracy: 0.8012 - loss: 0.3309 - val_accuracy: 0.8052 - val_loss: 0.3264\n",
      "Epoch 23/100\n",
      "\u001b[1m73/73\u001b[0m \u001b[32m━━━━━━━━━━━━━━━━━━━━\u001b[0m\u001b[37m\u001b[0m \u001b[1m0s\u001b[0m 720us/step - accuracy: 0.8227 - loss: 0.3182 - val_accuracy: 0.8224 - val_loss: 0.2923\n",
      "Epoch 24/100\n",
      "\u001b[1m73/73\u001b[0m \u001b[32m━━━━━━━━━━━━━━━━━━━━\u001b[0m\u001b[37m\u001b[0m \u001b[1m0s\u001b[0m 863us/step - accuracy: 0.8005 - loss: 0.3182 - val_accuracy: 0.8293 - val_loss: 0.2806\n",
      "Epoch 25/100\n",
      "\u001b[1m73/73\u001b[0m \u001b[32m━━━━━━━━━━━━━━━━━━━━\u001b[0m\u001b[37m\u001b[0m \u001b[1m0s\u001b[0m 857us/step - accuracy: 0.8204 - loss: 0.3020 - val_accuracy: 0.8293 - val_loss: 0.2891\n",
      "Epoch 26/100\n",
      "\u001b[1m73/73\u001b[0m \u001b[32m━━━━━━━━━━━━━━━━━━━━\u001b[0m\u001b[37m\u001b[0m \u001b[1m0s\u001b[0m 818us/step - accuracy: 0.8215 - loss: 0.3029 - val_accuracy: 0.8086 - val_loss: 0.2945\n",
      "Epoch 27/100\n",
      "\u001b[1m73/73\u001b[0m \u001b[32m━━━━━━━━━━━━━━━━━━━━\u001b[0m\u001b[37m\u001b[0m \u001b[1m0s\u001b[0m 641us/step - accuracy: 0.8033 - loss: 0.3113 - val_accuracy: 0.8259 - val_loss: 0.2755\n",
      "Epoch 28/100\n",
      "\u001b[1m73/73\u001b[0m \u001b[32m━━━━━━━━━━━━━━━━━━━━\u001b[0m\u001b[37m\u001b[0m \u001b[1m0s\u001b[0m 787us/step - accuracy: 0.8190 - loss: 0.3101 - val_accuracy: 0.8017 - val_loss: 0.2842\n",
      "Epoch 29/100\n",
      "\u001b[1m73/73\u001b[0m \u001b[32m━━━━━━━━━━━━━━━━━━━━\u001b[0m\u001b[37m\u001b[0m \u001b[1m0s\u001b[0m 779us/step - accuracy: 0.8175 - loss: 0.3178 - val_accuracy: 0.8379 - val_loss: 0.2825\n",
      "Epoch 30/100\n",
      "\u001b[1m73/73\u001b[0m \u001b[32m━━━━━━━━━━━━━━━━━━━━\u001b[0m\u001b[37m\u001b[0m \u001b[1m0s\u001b[0m 793us/step - accuracy: 0.8318 - loss: 0.2964 - val_accuracy: 0.8293 - val_loss: 0.2882\n",
      "Epoch 31/100\n",
      "\u001b[1m73/73\u001b[0m \u001b[32m━━━━━━━━━━━━━━━━━━━━\u001b[0m\u001b[37m\u001b[0m \u001b[1m0s\u001b[0m 770us/step - accuracy: 0.8075 - loss: 0.3111 - val_accuracy: 0.8397 - val_loss: 0.2761\n",
      "Epoch 32/100\n",
      "\u001b[1m73/73\u001b[0m \u001b[32m━━━━━━━━━━━━━━━━━━━━\u001b[0m\u001b[37m\u001b[0m \u001b[1m0s\u001b[0m 747us/step - accuracy: 0.8170 - loss: 0.2966 - val_accuracy: 0.8190 - val_loss: 0.2656\n",
      "Epoch 33/100\n",
      "\u001b[1m73/73\u001b[0m \u001b[32m━━━━━━━━━━━━━━━━━━━━\u001b[0m\u001b[37m\u001b[0m \u001b[1m0s\u001b[0m 719us/step - accuracy: 0.8092 - loss: 0.2973 - val_accuracy: 0.8224 - val_loss: 0.2971\n",
      "Epoch 34/100\n",
      "\u001b[1m73/73\u001b[0m \u001b[32m━━━━━━━━━━━━━━━━━━━━\u001b[0m\u001b[37m\u001b[0m \u001b[1m0s\u001b[0m 493us/step - accuracy: 0.8226 - loss: 0.2953 - val_accuracy: 0.8310 - val_loss: 0.2765\n",
      "Epoch 35/100\n",
      "\u001b[1m73/73\u001b[0m \u001b[32m━━━━━━━━━━━━━━━━━━━━\u001b[0m\u001b[37m\u001b[0m \u001b[1m0s\u001b[0m 703us/step - accuracy: 0.8198 - loss: 0.2921 - val_accuracy: 0.8483 - val_loss: 0.2738\n",
      "Epoch 36/100\n",
      "\u001b[1m73/73\u001b[0m \u001b[32m━━━━━━━━━━━━━━━━━━━━\u001b[0m\u001b[37m\u001b[0m \u001b[1m0s\u001b[0m 984us/step - accuracy: 0.8444 - loss: 0.2721 - val_accuracy: 0.8414 - val_loss: 0.2675\n",
      "Epoch 37/100\n",
      "\u001b[1m73/73\u001b[0m \u001b[32m━━━━━━━━━━━━━━━━━━━━\u001b[0m\u001b[37m\u001b[0m \u001b[1m0s\u001b[0m 688us/step - accuracy: 0.8285 - loss: 0.2848 - val_accuracy: 0.8362 - val_loss: 0.2686\n",
      "Epoch 38/100\n",
      "\u001b[1m73/73\u001b[0m \u001b[32m━━━━━━━━━━━━━━━━━━━━\u001b[0m\u001b[37m\u001b[0m \u001b[1m0s\u001b[0m 651us/step - accuracy: 0.8161 - loss: 0.2928 - val_accuracy: 0.8397 - val_loss: 0.2687\n",
      "Epoch 39/100\n",
      "\u001b[1m73/73\u001b[0m \u001b[32m━━━━━━━━━━━━━━━━━━━━\u001b[0m\u001b[37m\u001b[0m \u001b[1m0s\u001b[0m 703us/step - accuracy: 0.8298 - loss: 0.2803 - val_accuracy: 0.8293 - val_loss: 0.2656\n",
      "Epoch 40/100\n",
      "\u001b[1m73/73\u001b[0m \u001b[32m━━━━━━━━━━━━━━━━━━━━\u001b[0m\u001b[37m\u001b[0m \u001b[1m0s\u001b[0m 727us/step - accuracy: 0.8134 - loss: 0.2865 - val_accuracy: 0.8121 - val_loss: 0.2784\n",
      "Epoch 41/100\n",
      "\u001b[1m73/73\u001b[0m \u001b[32m━━━━━━━━━━━━━━━━━━━━\u001b[0m\u001b[37m\u001b[0m \u001b[1m0s\u001b[0m 708us/step - accuracy: 0.7903 - loss: 0.3023 - val_accuracy: 0.8448 - val_loss: 0.2575\n",
      "Epoch 42/100\n",
      "\u001b[1m73/73\u001b[0m \u001b[32m━━━━━━━━━━━━━━━━━━━━\u001b[0m\u001b[37m\u001b[0m \u001b[1m0s\u001b[0m 763us/step - accuracy: 0.8253 - loss: 0.2797 - val_accuracy: 0.8483 - val_loss: 0.2658\n",
      "Epoch 43/100\n",
      "\u001b[1m73/73\u001b[0m \u001b[32m━━━━━━━━━━━━━━━━━━━━\u001b[0m\u001b[37m\u001b[0m \u001b[1m0s\u001b[0m 718us/step - accuracy: 0.8127 - loss: 0.2909 - val_accuracy: 0.8362 - val_loss: 0.2644\n",
      "Epoch 44/100\n",
      "\u001b[1m73/73\u001b[0m \u001b[32m━━━━━━━━━━━━━━━━━━━━\u001b[0m\u001b[37m\u001b[0m \u001b[1m0s\u001b[0m 658us/step - accuracy: 0.8031 - loss: 0.2822 - val_accuracy: 0.8397 - val_loss: 0.2624\n",
      "Epoch 45/100\n",
      "\u001b[1m73/73\u001b[0m \u001b[32m━━━━━━━━━━━━━━━━━━━━\u001b[0m\u001b[37m\u001b[0m \u001b[1m0s\u001b[0m 648us/step - accuracy: 0.8184 - loss: 0.2957 - val_accuracy: 0.8345 - val_loss: 0.2629\n",
      "Epoch 46/100\n",
      "\u001b[1m73/73\u001b[0m \u001b[32m━━━━━━━━━━━━━━━━━━━━\u001b[0m\u001b[37m\u001b[0m \u001b[1m0s\u001b[0m 724us/step - accuracy: 0.8223 - loss: 0.2936 - val_accuracy: 0.8155 - val_loss: 0.2667\n",
      "Epoch 47/100\n",
      "\u001b[1m73/73\u001b[0m \u001b[32m━━━━━━━━━━━━━━━━━━━━\u001b[0m\u001b[37m\u001b[0m \u001b[1m0s\u001b[0m 623us/step - accuracy: 0.8206 - loss: 0.2986 - val_accuracy: 0.8379 - val_loss: 0.2690\n",
      "Epoch 48/100\n",
      "\u001b[1m73/73\u001b[0m \u001b[32m━━━━━━━━━━━━━━━━━━━━\u001b[0m\u001b[37m\u001b[0m \u001b[1m0s\u001b[0m 690us/step - accuracy: 0.8191 - loss: 0.2901 - val_accuracy: 0.8276 - val_loss: 0.2637\n",
      "Epoch 49/100\n",
      "\u001b[1m73/73\u001b[0m \u001b[32m━━━━━━━━━━━━━━━━━━━━\u001b[0m\u001b[37m\u001b[0m \u001b[1m0s\u001b[0m 688us/step - accuracy: 0.8053 - loss: 0.2788 - val_accuracy: 0.8414 - val_loss: 0.2552\n",
      "Epoch 50/100\n",
      "\u001b[1m73/73\u001b[0m \u001b[32m━━━━━━━━━━━━━━━━━━━━\u001b[0m\u001b[37m\u001b[0m \u001b[1m0s\u001b[0m 694us/step - accuracy: 0.8217 - loss: 0.2863 - val_accuracy: 0.8293 - val_loss: 0.2675\n",
      "Epoch 51/100\n",
      "\u001b[1m73/73\u001b[0m \u001b[32m━━━━━━━━━━━━━━━━━━━━\u001b[0m\u001b[37m\u001b[0m \u001b[1m0s\u001b[0m 790us/step - accuracy: 0.8096 - loss: 0.2915 - val_accuracy: 0.8448 - val_loss: 0.2684\n",
      "Epoch 52/100\n",
      "\u001b[1m73/73\u001b[0m \u001b[32m━━━━━━━━━━━━━━━━━━━━\u001b[0m\u001b[37m\u001b[0m \u001b[1m0s\u001b[0m 787us/step - accuracy: 0.8331 - loss: 0.2734 - val_accuracy: 0.8276 - val_loss: 0.2520\n",
      "Epoch 53/100\n",
      "\u001b[1m73/73\u001b[0m \u001b[32m━━━━━━━━━━━━━━━━━━━━\u001b[0m\u001b[37m\u001b[0m \u001b[1m0s\u001b[0m 776us/step - accuracy: 0.8031 - loss: 0.2814 - val_accuracy: 0.8121 - val_loss: 0.2653\n",
      "Epoch 54/100\n",
      "\u001b[1m73/73\u001b[0m \u001b[32m━━━━━━━━━━━━━━━━━━━━\u001b[0m\u001b[37m\u001b[0m \u001b[1m0s\u001b[0m 736us/step - accuracy: 0.8163 - loss: 0.2794 - val_accuracy: 0.8379 - val_loss: 0.2676\n",
      "Epoch 55/100\n",
      "\u001b[1m73/73\u001b[0m \u001b[32m━━━━━━━━━━━━━━━━━━━━\u001b[0m\u001b[37m\u001b[0m \u001b[1m0s\u001b[0m 697us/step - accuracy: 0.8096 - loss: 0.2935 - val_accuracy: 0.8328 - val_loss: 0.2588\n",
      "Epoch 56/100\n",
      "\u001b[1m73/73\u001b[0m \u001b[32m━━━━━━━━━━━━━━━━━━━━\u001b[0m\u001b[37m\u001b[0m \u001b[1m0s\u001b[0m 680us/step - accuracy: 0.8180 - loss: 0.2715 - val_accuracy: 0.8259 - val_loss: 0.2609\n",
      "Epoch 57/100\n",
      "\u001b[1m73/73\u001b[0m \u001b[32m━━━━━━━━━━━━━━━━━━━━\u001b[0m\u001b[37m\u001b[0m \u001b[1m0s\u001b[0m 651us/step - accuracy: 0.8104 - loss: 0.2895 - val_accuracy: 0.8172 - val_loss: 0.2510\n",
      "Epoch 58/100\n",
      "\u001b[1m73/73\u001b[0m \u001b[32m━━━━━━━━━━━━━━━━━━━━\u001b[0m\u001b[37m\u001b[0m \u001b[1m0s\u001b[0m 704us/step - accuracy: 0.8046 - loss: 0.2896 - val_accuracy: 0.8379 - val_loss: 0.2681\n",
      "Epoch 59/100\n",
      "\u001b[1m73/73\u001b[0m \u001b[32m━━━━━━━━━━━━━━━━━━━━\u001b[0m\u001b[37m\u001b[0m \u001b[1m0s\u001b[0m 878us/step - accuracy: 0.8109 - loss: 0.2793 - val_accuracy: 0.8310 - val_loss: 0.2580\n",
      "Epoch 60/100\n",
      "\u001b[1m73/73\u001b[0m \u001b[32m━━━━━━━━━━━━━━━━━━━━\u001b[0m\u001b[37m\u001b[0m \u001b[1m0s\u001b[0m 704us/step - accuracy: 0.8332 - loss: 0.2712 - val_accuracy: 0.8448 - val_loss: 0.2501\n",
      "Epoch 61/100\n",
      "\u001b[1m73/73\u001b[0m \u001b[32m━━━━━━━━━━━━━━━━━━━━\u001b[0m\u001b[37m\u001b[0m \u001b[1m0s\u001b[0m 728us/step - accuracy: 0.8207 - loss: 0.2641 - val_accuracy: 0.8190 - val_loss: 0.2565\n",
      "Epoch 62/100\n",
      "\u001b[1m73/73\u001b[0m \u001b[32m━━━━━━━━━━━━━━━━━━━━\u001b[0m\u001b[37m\u001b[0m \u001b[1m0s\u001b[0m 681us/step - accuracy: 0.8151 - loss: 0.2759 - val_accuracy: 0.8310 - val_loss: 0.2509\n",
      "Epoch 63/100\n",
      "\u001b[1m73/73\u001b[0m \u001b[32m━━━━━━━━━━━━━━━━━━━━\u001b[0m\u001b[37m\u001b[0m \u001b[1m0s\u001b[0m 510us/step - accuracy: 0.8279 - loss: 0.2693 - val_accuracy: 0.8328 - val_loss: 0.2513\n",
      "Epoch 64/100\n",
      "\u001b[1m73/73\u001b[0m \u001b[32m━━━━━━━━━━━━━━━━━━━━\u001b[0m\u001b[37m\u001b[0m \u001b[1m0s\u001b[0m 702us/step - accuracy: 0.8299 - loss: 0.2704 - val_accuracy: 0.8310 - val_loss: 0.2466\n",
      "Epoch 65/100\n",
      "\u001b[1m73/73\u001b[0m \u001b[32m━━━━━━━━━━━━━━━━━━━━\u001b[0m\u001b[37m\u001b[0m \u001b[1m0s\u001b[0m 589us/step - accuracy: 0.7954 - loss: 0.2753 - val_accuracy: 0.8310 - val_loss: 0.2675\n",
      "Epoch 66/100\n",
      "\u001b[1m73/73\u001b[0m \u001b[32m━━━━━━━━━━━━━━━━━━━━\u001b[0m\u001b[37m\u001b[0m \u001b[1m0s\u001b[0m 699us/step - accuracy: 0.8264 - loss: 0.2676 - val_accuracy: 0.8603 - val_loss: 0.2507\n",
      "Epoch 67/100\n",
      "\u001b[1m73/73\u001b[0m \u001b[32m━━━━━━━━━━━━━━━━━━━━\u001b[0m\u001b[37m\u001b[0m \u001b[1m0s\u001b[0m 794us/step - accuracy: 0.8137 - loss: 0.2763 - val_accuracy: 0.8276 - val_loss: 0.2576\n",
      "Epoch 68/100\n",
      "\u001b[1m73/73\u001b[0m \u001b[32m━━━━━━━━━━━━━━━━━━━━\u001b[0m\u001b[37m\u001b[0m \u001b[1m0s\u001b[0m 639us/step - accuracy: 0.8136 - loss: 0.2739 - val_accuracy: 0.8207 - val_loss: 0.2682\n",
      "Epoch 69/100\n",
      "\u001b[1m73/73\u001b[0m \u001b[32m━━━━━━━━━━━━━━━━━━━━\u001b[0m\u001b[37m\u001b[0m \u001b[1m0s\u001b[0m 638us/step - accuracy: 0.8244 - loss: 0.2827 - val_accuracy: 0.7966 - val_loss: 0.2828\n",
      "Epoch 70/100\n",
      "\u001b[1m73/73\u001b[0m \u001b[32m━━━━━━━━━━━━━━━━━━━━\u001b[0m\u001b[37m\u001b[0m \u001b[1m0s\u001b[0m 695us/step - accuracy: 0.8240 - loss: 0.2687 - val_accuracy: 0.8259 - val_loss: 0.2563\n",
      "Epoch 71/100\n",
      "\u001b[1m73/73\u001b[0m \u001b[32m━━━━━━━━━━━━━━━━━━━━\u001b[0m\u001b[37m\u001b[0m \u001b[1m0s\u001b[0m 723us/step - accuracy: 0.8263 - loss: 0.2617 - val_accuracy: 0.8552 - val_loss: 0.2474\n",
      "Epoch 72/100\n",
      "\u001b[1m73/73\u001b[0m \u001b[32m━━━━━━━━━━━━━━━━━━━━\u001b[0m\u001b[37m\u001b[0m \u001b[1m0s\u001b[0m 664us/step - accuracy: 0.8305 - loss: 0.2678 - val_accuracy: 0.8362 - val_loss: 0.2520\n",
      "Epoch 73/100\n",
      "\u001b[1m73/73\u001b[0m \u001b[32m━━━━━━━━━━━━━━━━━━━━\u001b[0m\u001b[37m\u001b[0m \u001b[1m0s\u001b[0m 684us/step - accuracy: 0.8162 - loss: 0.2710 - val_accuracy: 0.8121 - val_loss: 0.2563\n",
      "Epoch 74/100\n",
      "\u001b[1m73/73\u001b[0m \u001b[32m━━━━━━━━━━━━━━━━━━━━\u001b[0m\u001b[37m\u001b[0m \u001b[1m0s\u001b[0m 700us/step - accuracy: 0.8206 - loss: 0.2686 - val_accuracy: 0.8552 - val_loss: 0.2509\n",
      "Epoch 75/100\n",
      "\u001b[1m73/73\u001b[0m \u001b[32m━━━━━━━━━━━━━━━━━━━━\u001b[0m\u001b[37m\u001b[0m \u001b[1m0s\u001b[0m 765us/step - accuracy: 0.8026 - loss: 0.2811 - val_accuracy: 0.8517 - val_loss: 0.2496\n",
      "Epoch 76/100\n",
      "\u001b[1m73/73\u001b[0m \u001b[32m━━━━━━━━━━━━━━━━━━━━\u001b[0m\u001b[37m\u001b[0m \u001b[1m0s\u001b[0m 704us/step - accuracy: 0.8075 - loss: 0.2743 - val_accuracy: 0.8121 - val_loss: 0.2494\n",
      "Epoch 77/100\n",
      "\u001b[1m73/73\u001b[0m \u001b[32m━━━━━━━━━━━━━━━━━━━━\u001b[0m\u001b[37m\u001b[0m \u001b[1m0s\u001b[0m 652us/step - accuracy: 0.8023 - loss: 0.2642 - val_accuracy: 0.8483 - val_loss: 0.2435\n",
      "Epoch 78/100\n",
      "\u001b[1m73/73\u001b[0m \u001b[32m━━━━━━━━━━━━━━━━━━━━\u001b[0m\u001b[37m\u001b[0m \u001b[1m0s\u001b[0m 690us/step - accuracy: 0.8170 - loss: 0.2736 - val_accuracy: 0.8328 - val_loss: 0.2605\n",
      "Epoch 79/100\n",
      "\u001b[1m73/73\u001b[0m \u001b[32m━━━━━━━━━━━━━━━━━━━━\u001b[0m\u001b[37m\u001b[0m \u001b[1m0s\u001b[0m 756us/step - accuracy: 0.8164 - loss: 0.2747 - val_accuracy: 0.8500 - val_loss: 0.2474\n",
      "Epoch 80/100\n",
      "\u001b[1m73/73\u001b[0m \u001b[32m━━━━━━━━━━━━━━━━━━━━\u001b[0m\u001b[37m\u001b[0m \u001b[1m0s\u001b[0m 793us/step - accuracy: 0.8380 - loss: 0.2697 - val_accuracy: 0.8362 - val_loss: 0.2445\n",
      "Epoch 81/100\n",
      "\u001b[1m73/73\u001b[0m \u001b[32m━━━━━━━━━━━━━━━━━━━━\u001b[0m\u001b[37m\u001b[0m \u001b[1m0s\u001b[0m 764us/step - accuracy: 0.8052 - loss: 0.2753 - val_accuracy: 0.8362 - val_loss: 0.2451\n",
      "Epoch 82/100\n",
      "\u001b[1m73/73\u001b[0m \u001b[32m━━━━━━━━━━━━━━━━━━━━\u001b[0m\u001b[37m\u001b[0m \u001b[1m0s\u001b[0m 744us/step - accuracy: 0.8301 - loss: 0.2625 - val_accuracy: 0.8397 - val_loss: 0.2438\n",
      "Epoch 83/100\n",
      "\u001b[1m73/73\u001b[0m \u001b[32m━━━━━━━━━━━━━━━━━━━━\u001b[0m\u001b[37m\u001b[0m \u001b[1m0s\u001b[0m 720us/step - accuracy: 0.8331 - loss: 0.2557 - val_accuracy: 0.8207 - val_loss: 0.2546\n",
      "Epoch 84/100\n",
      "\u001b[1m73/73\u001b[0m \u001b[32m━━━━━━━━━━━━━━━━━━━━\u001b[0m\u001b[37m\u001b[0m \u001b[1m0s\u001b[0m 704us/step - accuracy: 0.8252 - loss: 0.2714 - val_accuracy: 0.8293 - val_loss: 0.2720\n",
      "Epoch 85/100\n",
      "\u001b[1m73/73\u001b[0m \u001b[32m━━━━━━━━━━━━━━━━━━━━\u001b[0m\u001b[37m\u001b[0m \u001b[1m0s\u001b[0m 773us/step - accuracy: 0.8151 - loss: 0.2728 - val_accuracy: 0.8603 - val_loss: 0.2503\n",
      "Epoch 86/100\n",
      "\u001b[1m73/73\u001b[0m \u001b[32m━━━━━━━━━━━━━━━━━━━━\u001b[0m\u001b[37m\u001b[0m \u001b[1m0s\u001b[0m 873us/step - accuracy: 0.8168 - loss: 0.2611 - val_accuracy: 0.8362 - val_loss: 0.2456\n",
      "Epoch 87/100\n",
      "\u001b[1m73/73\u001b[0m \u001b[32m━━━━━━━━━━━━━━━━━━━━\u001b[0m\u001b[37m\u001b[0m \u001b[1m0s\u001b[0m 577us/step - accuracy: 0.8199 - loss: 0.2656 - val_accuracy: 0.8241 - val_loss: 0.2460\n",
      "Epoch 88/100\n",
      "\u001b[1m73/73\u001b[0m \u001b[32m━━━━━━━━━━━━━━━━━━━━\u001b[0m\u001b[37m\u001b[0m \u001b[1m0s\u001b[0m 632us/step - accuracy: 0.8117 - loss: 0.2675 - val_accuracy: 0.8328 - val_loss: 0.2544\n",
      "Epoch 89/100\n",
      "\u001b[1m73/73\u001b[0m \u001b[32m━━━━━━━━━━━━━━━━━━━━\u001b[0m\u001b[37m\u001b[0m \u001b[1m0s\u001b[0m 585us/step - accuracy: 0.8298 - loss: 0.2667 - val_accuracy: 0.8431 - val_loss: 0.2473\n",
      "Epoch 90/100\n",
      "\u001b[1m73/73\u001b[0m \u001b[32m━━━━━━━━━━━━━━━━━━━━\u001b[0m\u001b[37m\u001b[0m \u001b[1m0s\u001b[0m 705us/step - accuracy: 0.8285 - loss: 0.2440 - val_accuracy: 0.8207 - val_loss: 0.2671\n",
      "Epoch 91/100\n",
      "\u001b[1m73/73\u001b[0m \u001b[32m━━━━━━━━━━━━━━━━━━━━\u001b[0m\u001b[37m\u001b[0m \u001b[1m0s\u001b[0m 610us/step - accuracy: 0.8179 - loss: 0.2789 - val_accuracy: 0.8500 - val_loss: 0.2469\n",
      "Epoch 92/100\n",
      "\u001b[1m73/73\u001b[0m \u001b[32m━━━━━━━━━━━━━━━━━━━━\u001b[0m\u001b[37m\u001b[0m \u001b[1m0s\u001b[0m 695us/step - accuracy: 0.8315 - loss: 0.2555 - val_accuracy: 0.8448 - val_loss: 0.2426\n",
      "Epoch 93/100\n",
      "\u001b[1m73/73\u001b[0m \u001b[32m━━━━━━━━━━━━━━━━━━━━\u001b[0m\u001b[37m\u001b[0m \u001b[1m0s\u001b[0m 596us/step - accuracy: 0.8060 - loss: 0.2752 - val_accuracy: 0.8500 - val_loss: 0.2579\n",
      "Epoch 94/100\n",
      "\u001b[1m73/73\u001b[0m \u001b[32m━━━━━━━━━━━━━━━━━━━━\u001b[0m\u001b[37m\u001b[0m \u001b[1m0s\u001b[0m 735us/step - accuracy: 0.8201 - loss: 0.2742 - val_accuracy: 0.8500 - val_loss: 0.2404\n",
      "Epoch 95/100\n",
      "\u001b[1m73/73\u001b[0m \u001b[32m━━━━━━━━━━━━━━━━━━━━\u001b[0m\u001b[37m\u001b[0m \u001b[1m0s\u001b[0m 605us/step - accuracy: 0.8403 - loss: 0.2514 - val_accuracy: 0.8569 - val_loss: 0.2426\n",
      "Epoch 96/100\n",
      "\u001b[1m73/73\u001b[0m \u001b[32m━━━━━━━━━━━━━━━━━━━━\u001b[0m\u001b[37m\u001b[0m \u001b[1m0s\u001b[0m 695us/step - accuracy: 0.8172 - loss: 0.2698 - val_accuracy: 0.8793 - val_loss: 0.2437\n",
      "Epoch 97/100\n",
      "\u001b[1m73/73\u001b[0m \u001b[32m━━━━━━━━━━━━━━━━━━━━\u001b[0m\u001b[37m\u001b[0m \u001b[1m0s\u001b[0m 635us/step - accuracy: 0.8336 - loss: 0.2523 - val_accuracy: 0.8345 - val_loss: 0.2460\n",
      "Epoch 98/100\n",
      "\u001b[1m73/73\u001b[0m \u001b[32m━━━━━━━━━━━━━━━━━━━━\u001b[0m\u001b[37m\u001b[0m \u001b[1m0s\u001b[0m 746us/step - accuracy: 0.8255 - loss: 0.2552 - val_accuracy: 0.8190 - val_loss: 0.2536\n",
      "Epoch 99/100\n",
      "\u001b[1m73/73\u001b[0m \u001b[32m━━━━━━━━━━━━━━━━━━━━\u001b[0m\u001b[37m\u001b[0m \u001b[1m0s\u001b[0m 840us/step - accuracy: 0.8083 - loss: 0.2650 - val_accuracy: 0.8259 - val_loss: 0.2432\n",
      "Epoch 100/100\n",
      "\u001b[1m73/73\u001b[0m \u001b[32m━━━━━━━━━━━━━━━━━━━━\u001b[0m\u001b[37m\u001b[0m \u001b[1m0s\u001b[0m 714us/step - accuracy: 0.8210 - loss: 0.2601 - val_accuracy: 0.8466 - val_loss: 0.2421\n"
     ]
    }
   ],
   "source": [
    "# Train the model\n",
    "history = model.fit(X_train, y_train, \n",
    "                    epochs=100, \n",
    "                    batch_size=32, \n",
    "                    validation_split=0.2,  # Use 20% of training data for validation\n",
    "                    verbose=1)"
   ]
  },
  {
   "cell_type": "code",
   "execution_count": 82,
   "metadata": {},
   "outputs": [
    {
     "name": "stdout",
     "output_type": "stream",
     "text": [
      "\u001b[1m23/23\u001b[0m \u001b[32m━━━━━━━━━━━━━━━━━━━━\u001b[0m\u001b[37m\u001b[0m \u001b[1m0s\u001b[0m 650us/step - accuracy: 0.8198 - loss: 0.2833\n",
      "Test Loss: 0.2725, Test Accuracy: 0.8315\n"
     ]
    }
   ],
   "source": [
    "# Evaluate the model on the test set\n",
    "test_loss, test_accuracy = model.evaluate(X_test, y_test, verbose=1)\n",
    "\n",
    "print(f\"Test Loss: {test_loss:.4f}, Test Accuracy: {test_accuracy:.4f}\")"
   ]
  },
  {
   "cell_type": "code",
   "execution_count": 86,
   "metadata": {},
   "outputs": [
    {
     "name": "stdout",
     "output_type": "stream",
     "text": [
      "\u001b[1m1250/1250\u001b[0m \u001b[32m━━━━━━━━━━━━━━━━━━━━\u001b[0m\u001b[37m\u001b[0m \u001b[1m1s\u001b[0m 503us/step\n"
     ]
    },
    {
     "data": {
      "image/png": "[encoded data removed]",
      "text/plain": [
       "<Figure size 1200x800 with 1 Axes>"
      ]
     },
     "metadata": {},
     "output_type": "display_data"
    }
   ],
   "source": [
    "# Enter new pressure to predict phase boundaries \n",
    "new_pressure = float(input(\"Enter a new pressure to predict phase boundaries (e.g., 5.0): \"))\n",
    "\n",
    "# Generate a grid of composition and temperature points for predictions\n",
    "composition_range = np.linspace(data['Composition_Percent_MgO'].min(), data['Composition_Percent_MgO'].max(), 200)\n",
    "temperature_range = np.linspace(data['Temperature_K'].min(), data['Temperature_K'].max(), 200)\n",
    "P, T = np.meshgrid(composition_range, temperature_range)\n",
    "grid_points = np.c_[P.ravel(), T.ravel(), np.full(P.ravel().shape, new_pressure)]\n",
    "\n",
    "# Normalize grid points using the same scaler as the training data\n",
    "grid_points_scaled = scaler.transform(grid_points)\n",
    "\n",
    "# Predict phase boundary probabilities for the grid points\n",
    "boundary_predictions = model.predict(grid_points_scaled).reshape(P.shape)\n",
    "\n",
    "# Plot the predicted phase diagram\n",
    "plt.figure(figsize=(12, 8))\n",
    "contour = plt.contour(P, T, boundary_predictions, levels=[0.5], colors='black', linewidths=2)\n",
    "plt.clabel(contour, inline=True, fontsize=10)\n",
    "\n",
    "# Add color bar and labels\n",
    "plt.xlabel('Composition_Percent_MgO')\n",
    "plt.ylabel('Temperature_K')\n",
    "plt.title(f'Predicted Phase Boundary at Pressure {new_pressure} GPa')\n",
    "plt.grid()\n",
    "plt.show()"
   ]
  }
 ],
 "metadata": {
  "kernelspec": {
   "display_name": "TF",
   "language": "python",
   "name": "python3"
  },
  "language_info": {
   "codemirror_mode": {
    "name": "ipython",
    "version": 3
   },
   "file_extension": ".py",
   "mimetype": "text/x-python",
   "name": "python",
   "nbconvert_exporter": "python",
   "pygments_lexer": "ipython3",
   "version": "3.12.7"
  }
 },
 "nbformat": 4,
 "nbformat_minor": 4
}
